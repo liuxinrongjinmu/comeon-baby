{
 "cells": [
  {
   "cell_type": "markdown",
   "id": "50109948",
   "metadata": {},
   "source": [
    "# 采购/库存需求预测 Demo\n",
    "本 notebook 演示：数据加载、简单的滑动平均基线、以及用 Prophet（或其他）训练并评估短期预测效果。"
   ]
  },
  {
   "cell_type": "code",
   "execution_count": null,
   "id": "c9bc78d9",
   "metadata": {},
   "outputs": [],
   "source": [
    "# 1. 导入库与加载数据\n",
    "import pandas as pd\n",
    "import numpy as np\n",
    "from prophet import Prophet\n",
    "\n",
    "# 示例数据构造（若无真实数据）\n",
    "dates = pd.date_range('2023-01-01', periods=100, freq='D')\n",
    "df = pd.DataFrame({'ds': dates, 'y': (np.sin(range(100)) + 10 + np.random.randn(100)*0.5)})\n",
    "df.head()"
   ]
  },
  {
   "cell_type": "code",
   "execution_count": null,
   "id": "726f8c42",
   "metadata": {},
   "outputs": [],
   "source": [
    "# 2. 训练简单模型并预测\n",
    "m = Prophet()\n",
    "m.fit(df)\n",
    "future = m.make_future_dataframe(periods=14)\n",
    "fcst = m.predict(future)\n",
    "m.plot(fcst)"
   ]
  }
 ],
 "metadata": {
  "language_info": {
   "name": "python"
  }
 },
 "nbformat": 4,
 "nbformat_minor": 5
}
