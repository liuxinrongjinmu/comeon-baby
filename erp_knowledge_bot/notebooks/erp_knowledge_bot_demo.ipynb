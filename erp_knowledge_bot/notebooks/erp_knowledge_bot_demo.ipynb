{
 "cells": [
  {
   "cell_type": "markdown",
   "id": "abc0ee02",
   "metadata": {},
   "source": [
    "# ERP Knowledge Bot Demo\n",
    "本 notebook 展示最小可行流程：1) 从 `data/` 加载文本；2) 生成 embeddings；3) 构建 FAISS 索引；4) 做一次检索并调用 LLM 生成答案。"
   ]
  },
  {
   "cell_type": "code",
   "execution_count": null,
   "id": "3abc3703",
   "metadata": {},
   "outputs": [],
   "source": [
    "# 1. 环境与库导入\n",
    "import os\n",
    "from sentence_transformers import SentenceTransformer\n",
    "import faiss\n",
    "\n",
    "# 2. 示例：加载文档（这里用列表代替）\n",
    "docs = [\n",
    "    \"如何创建客户主数据：步骤 A -> B -> C\",\n",
    "    \"月末对账流程：1. 导出账龄表；2. 核对应收"
   ]
  }
 ],
 "metadata": {
  "language_info": {
   "name": "python"
  }
 },
 "nbformat": 4,
 "nbformat_minor": 5
}
