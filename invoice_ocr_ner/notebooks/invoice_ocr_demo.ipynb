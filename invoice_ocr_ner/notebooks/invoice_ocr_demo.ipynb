{
 "cells": [
  {
   "cell_type": "markdown",
   "id": "b042d2bf",
   "metadata": {},
   "source": [
    "# 发票 OCR + 字段抽取 Demo\n",
    "本 notebook 展示：1) 使用 OCR 提取文本；2) 用简单规则或 spaCy 做关键字段抽取；3) 输出 JSON 结构。"
   ]
  },
  {
   "cell_type": "code",
   "execution_count": null,
   "id": "53d53a16",
   "metadata": {},
   "outputs": [],
   "source": [
    "# 示例：使用 pytesseract 提取图片文本（需先安装 tesseract 并配置 PATH）\n",
    "from PIL import Image\n",
    "import pytesseract\n",
    "img = Image.open('../data/sample_invoice.jpg')\n",
    "text = pytesseract.image_to_string(img, lang='chi_sim')\n",
    "print(text[:400])"
   ]
  },
  {
   "cell_type": "code",
   "execution_count": null,
   "id": "fcbcd333",
   "metadata": {},
   "outputs": [],
   "source": [
    "# 简单规则抽取示例\n",
    "import re\n",
    "invoice_no = re.search(r'发票号[:：]*([0-9A-Za-z-]+)', text)\n",
    "amount = re.search(r'金额[:：]*([0-9,]+)', text)\n",
    "print('invoice_no', invoice_no.group(1) if invoice_no else None)\n",
    "print('amount', amount.group(1) if amount else None)"
   ]
  }
 ],
 "metadata": {
  "language_info": {
   "name": "python"
  }
 },
 "nbformat": 4,
 "nbformat_minor": 5
}
